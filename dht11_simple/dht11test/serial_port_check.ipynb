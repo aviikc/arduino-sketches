{
 "cells": [
  {
   "cell_type": "code",
   "execution_count": 2,
   "id": "19d7f80d",
   "metadata": {},
   "outputs": [],
   "source": [
    "import serial"
   ]
  },
  {
   "cell_type": "code",
   "execution_count": 7,
   "id": "5cb99bca",
   "metadata": {
    "scrolled": false
   },
   "outputs": [
    {
     "name": "stdout",
     "output_type": "stream",
     "text": [
      "b'DHTxx test!\\r\\n'\n",
      "b'Humidity: 55.00%  Temperature: 30.20\\xc2\\xb0C 86.36\\xc2\\xb0F  Heat index: 32.23\\xc2\\xb0C 90.01\\xc2\\xb0F\\r\\n'\n",
      "b'Humidity: 54.00%  Temperature: 30.20\\xc2\\xb0C 86.36\\xc2\\xb0F  Heat index: 32.04\\xc2\\xb0C 89.68\\xc2\\xb0F\\r\\n'\n",
      "b'Humidity: 53.00%  Temperature: 30.20\\xc2\\xb0C 86.36\\xc2\\xb0F  Heat index: 31.86\\xc2\\xb0C 89.35\\xc2\\xb0F\\r\\n'\n",
      "b'Humidity: 52.00%  Temperature: 30.20\\xc2\\xb0C 86.36\\xc2\\xb0F  Heat index: 31.69\\xc2\\xb0C 89.04\\xc2\\xb0F\\r\\n'\n",
      "b'Humidity: 52.00%  Temperature: 30.20\\xc2\\xb0C 86.36\\xc2\\xb0F  Heat index: 31.69\\xc2\\xb0C 89.04\\xc2\\xb0F\\r\\n'\n",
      "b'Humidity: 52.00%  Temperature: 30.20\\xc2\\xb0C 86.36\\xc2\\xb0F  Heat index: 31.69\\xc2\\xb0C 89.04\\xc2\\xb0F\\r\\n'\n",
      "b'Humidity: 52.00%  Temperature: 30.20\\xc2\\xb0C 86.36\\xc2\\xb0F  Heat index: 31.69\\xc2\\xb0C 89.04\\xc2\\xb0F\\r\\n'\n",
      "b'Humidity: 51.00%  Temperature: 30.20\\xc2\\xb0C 86.36\\xc2\\xb0F  Heat index: 31.52\\xc2\\xb0C 88.73\\xc2\\xb0F\\r\\n'\n",
      "b'Humidity: 51.00%  Temperature: 30.20\\xc2\\xb0C 86.36\\xc2\\xb0F  Heat index: 31.52\\xc2\\xb0C 88.73\\xc2\\xb0F\\r\\n'\n"
     ]
    },
    {
     "ename": "KeyboardInterrupt",
     "evalue": "",
     "output_type": "error",
     "traceback": [
      "\u001b[0;31m---------------------------------------------------------------------------\u001b[0m",
      "\u001b[0;31mKeyboardInterrupt\u001b[0m                         Traceback (most recent call last)",
      "\u001b[0;32m/tmp/ipykernel_236579/4205461374.py\u001b[0m in \u001b[0;36m<module>\u001b[0;34m\u001b[0m\n\u001b[1;32m      3\u001b[0m \u001b[0;32mwhile\u001b[0m \u001b[0;32mTrue\u001b[0m\u001b[0;34m:\u001b[0m\u001b[0;34m\u001b[0m\u001b[0;34m\u001b[0m\u001b[0m\n\u001b[1;32m      4\u001b[0m \u001b[0;34m\u001b[0m\u001b[0m\n\u001b[0;32m----> 5\u001b[0;31m     \u001b[0mprint\u001b[0m\u001b[0;34m(\u001b[0m\u001b[0mser\u001b[0m\u001b[0;34m.\u001b[0m\u001b[0mreadline\u001b[0m\u001b[0;34m(\u001b[0m\u001b[0;34m)\u001b[0m\u001b[0;34m)\u001b[0m\u001b[0;34m\u001b[0m\u001b[0;34m\u001b[0m\u001b[0m\n\u001b[0m",
      "\u001b[0;32m/usr/lib/python3.9/site-packages/serial/serialposix.py\u001b[0m in \u001b[0;36mread\u001b[0;34m(self, size)\u001b[0m\n\u001b[1;32m    563\u001b[0m         \u001b[0;32mwhile\u001b[0m \u001b[0mlen\u001b[0m\u001b[0;34m(\u001b[0m\u001b[0mread\u001b[0m\u001b[0;34m)\u001b[0m \u001b[0;34m<\u001b[0m \u001b[0msize\u001b[0m\u001b[0;34m:\u001b[0m\u001b[0;34m\u001b[0m\u001b[0;34m\u001b[0m\u001b[0m\n\u001b[1;32m    564\u001b[0m             \u001b[0;32mtry\u001b[0m\u001b[0;34m:\u001b[0m\u001b[0;34m\u001b[0m\u001b[0;34m\u001b[0m\u001b[0m\n\u001b[0;32m--> 565\u001b[0;31m                 \u001b[0mready\u001b[0m\u001b[0;34m,\u001b[0m \u001b[0m_\u001b[0m\u001b[0;34m,\u001b[0m \u001b[0m_\u001b[0m \u001b[0;34m=\u001b[0m \u001b[0mselect\u001b[0m\u001b[0;34m.\u001b[0m\u001b[0mselect\u001b[0m\u001b[0;34m(\u001b[0m\u001b[0;34m[\u001b[0m\u001b[0mself\u001b[0m\u001b[0;34m.\u001b[0m\u001b[0mfd\u001b[0m\u001b[0;34m,\u001b[0m \u001b[0mself\u001b[0m\u001b[0;34m.\u001b[0m\u001b[0mpipe_abort_read_r\u001b[0m\u001b[0;34m]\u001b[0m\u001b[0;34m,\u001b[0m \u001b[0;34m[\u001b[0m\u001b[0;34m]\u001b[0m\u001b[0;34m,\u001b[0m \u001b[0;34m[\u001b[0m\u001b[0;34m]\u001b[0m\u001b[0;34m,\u001b[0m \u001b[0mtimeout\u001b[0m\u001b[0;34m.\u001b[0m\u001b[0mtime_left\u001b[0m\u001b[0;34m(\u001b[0m\u001b[0;34m)\u001b[0m\u001b[0;34m)\u001b[0m\u001b[0;34m\u001b[0m\u001b[0;34m\u001b[0m\u001b[0m\n\u001b[0m\u001b[1;32m    566\u001b[0m                 \u001b[0;32mif\u001b[0m \u001b[0mself\u001b[0m\u001b[0;34m.\u001b[0m\u001b[0mpipe_abort_read_r\u001b[0m \u001b[0;32min\u001b[0m \u001b[0mready\u001b[0m\u001b[0;34m:\u001b[0m\u001b[0;34m\u001b[0m\u001b[0;34m\u001b[0m\u001b[0m\n\u001b[1;32m    567\u001b[0m                     \u001b[0mos\u001b[0m\u001b[0;34m.\u001b[0m\u001b[0mread\u001b[0m\u001b[0;34m(\u001b[0m\u001b[0mself\u001b[0m\u001b[0;34m.\u001b[0m\u001b[0mpipe_abort_read_r\u001b[0m\u001b[0;34m,\u001b[0m \u001b[0;36m1000\u001b[0m\u001b[0;34m)\u001b[0m\u001b[0;34m\u001b[0m\u001b[0;34m\u001b[0m\u001b[0m\n",
      "\u001b[0;31mKeyboardInterrupt\u001b[0m: "
     ]
    }
   ],
   "source": [
    "ser = serial.Serial('/dev/ttyUSB2',9600,timeout=10)\n",
    "\n",
    "while True:\n",
    "\n",
    "    print(ser.readline())"
   ]
  },
  {
   "cell_type": "code",
   "execution_count": null,
   "id": "24073bf4",
   "metadata": {},
   "outputs": [],
   "source": []
  }
 ],
 "metadata": {
  "kernelspec": {
   "display_name": "Python 3 (ipykernel)",
   "language": "python",
   "name": "python3"
  },
  "language_info": {
   "codemirror_mode": {
    "name": "ipython",
    "version": 3
   },
   "file_extension": ".py",
   "mimetype": "text/x-python",
   "name": "python",
   "nbconvert_exporter": "python",
   "pygments_lexer": "ipython3",
   "version": "3.9.9"
  }
 },
 "nbformat": 4,
 "nbformat_minor": 5
}
